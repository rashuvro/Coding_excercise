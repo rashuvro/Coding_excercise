{
 "cells": [
  {
   "cell_type": "markdown",
   "metadata": {},
   "source": [
    "Leetcode problems practice \n",
    "\n",
    "Rezoan Ahmed Shuvro\n"
   ]
  },
  {
   "cell_type": "code",
   "execution_count": 358,
   "metadata": {},
   "outputs": [
    {
     "name": "stdout",
     "output_type": "stream",
     "text": [
      "[1, 7, 9, 26, 35, 53, 121, 136, 167, 217, 231, 242, 268, 283, 326, 349, 412, 448, 1150]\n",
      "problems solved:  19\n"
     ]
    }
   ],
   "source": [
    "#Python\n",
    "problem_list = [1,121,167,412,26,283,242,53,268,448,349,1150,9,217,35,7,136,231,326]\n",
    "print(sorted(set(problem_list)))\n",
    "print ('problems solved: ',len(sorted(set(problem_list))))"
   ]
  },
  {
   "cell_type": "code",
   "execution_count": 372,
   "metadata": {},
   "outputs": [
    {
     "name": "stdout",
     "output_type": "stream",
     "text": [
      "[175, 176, 181, 182, 183, 196, 197, 511, 577, 584, 586, 595, 613, 619, 627, 1068, 1069, 1075]\n",
      "problems solved:  18\n"
     ]
    }
   ],
   "source": [
    "#SQL\n",
    "problem_list = [176,175,181,183,182,196,197,511,577,584,586,595,613,619,627,1068,1069,1075,]\n",
    "print(sorted(set(problem_list)))\n",
    "print ('problems solved: ',len(sorted(set(problem_list))))"
   ]
  },
  {
   "cell_type": "code",
   "execution_count": 319,
   "metadata": {},
   "outputs": [
    {
     "data": {
      "text/plain": [
       "4"
      ]
     },
     "execution_count": 319,
     "metadata": {},
     "output_type": "execute_result"
    }
   ],
   "source": [
    "'''\n",
    "136. Single Number\n",
    "Given a non-empty array of integers, every element appears twice except for one. Find that single one.\n",
    "Note:\n",
    "Your algorithm should have a linear runtime complexity. Could you implement it without using extra memory?\n",
    "Example 1:\n",
    "Input: [2,2,1]\n",
    "Output: 1\n",
    "Example 2:\n",
    "Input: [4,1,2,1,2]\n",
    "Output: 4\n",
    "'''\n",
    "\n",
    "def single_Number(nums):\n",
    "        d={}\n",
    "        for num in nums:\n",
    "            if num in d:\n",
    "                d[num] +=1\n",
    "            else:\n",
    "                d[num]=1\n",
    "        for i in d.keys():\n",
    "            if d[i]<2:\n",
    "                return i\n",
    "single_Number([4,1,2,1,2])          "
   ]
  },
  {
   "cell_type": "code",
   "execution_count": 293,
   "metadata": {},
   "outputs": [
    {
     "data": {
      "text/plain": [
       "0"
      ]
     },
     "execution_count": 293,
     "metadata": {},
     "output_type": "execute_result"
    }
   ],
   "source": [
    "'''\n",
    "7. Reverse Integer\n",
    "Given a 32-bit signed integer, reverse digits of an integer.\n",
    "Example 1:\n",
    "Input: 123\n",
    "Output: 321\n",
    "Example 2:\n",
    "Input: -123\n",
    "Output: -321\n",
    "Example 3:\n",
    "Input: 120\n",
    "Output: 21\n",
    "Assume we are dealing with an environment which could only store integers within the 32-bit signed integer range: \n",
    "[−231,  231 − 1].For the purpose of this problem, assume that your function returns 0 when the reversed integer overflows.\n",
    "'''\n",
    "def reverse_integer(x):\n",
    "    if x>0:\n",
    "        num = int (str(x)[::-1]) \n",
    "    elif x ==0:\n",
    "        num =0\n",
    "    elif x<0:\n",
    "        num = int (str(x)[1:][::-1])*(-1)\n",
    "    if num not in range (-2**31,  2**31-1):\n",
    "        num =0\n",
    "    return num        \n",
    "reverse_integer(9223372036854775807)"
   ]
  },
  {
   "cell_type": "code",
   "execution_count": 294,
   "metadata": {},
   "outputs": [
    {
     "data": {
      "text/plain": [
       "True"
      ]
     },
     "execution_count": 294,
     "metadata": {},
     "output_type": "execute_result"
    }
   ],
   "source": [
    "'aa'=='aa'"
   ]
  },
  {
   "cell_type": "code",
   "execution_count": 312,
   "metadata": {},
   "outputs": [],
   "source": [
    "'''\n",
    "Given a non-empty string s, you may delete at most one character. Judge whether you can make it a palindrome.\n",
    "Example 1:\n",
    "Input: \"aba\"\n",
    "Output: True\n",
    "Example 2:\n",
    "Input: \"abca\"\n",
    "Output: True\n",
    "Explanation: You could delete the character 'c'.\n",
    "'''\n",
    "def palindrome_2(s):\n",
    "    for i in range(len(s)):\n",
    "            t = s[:i] + s[i+1:]\n",
    "            if t == t[::-1]: \n",
    "                return True\n",
    "            return s == s[::-1]"
   ]
  },
  {
   "cell_type": "code",
   "execution_count": 313,
   "metadata": {},
   "outputs": [
    {
     "data": {
      "text/plain": [
       "False"
      ]
     },
     "execution_count": 313,
     "metadata": {},
     "output_type": "execute_result"
    }
   ],
   "source": [
    "palindrome_2(\"abca\")"
   ]
  },
  {
   "cell_type": "code",
   "execution_count": 264,
   "metadata": {},
   "outputs": [
    {
     "data": {
      "text/plain": [
       "2"
      ]
     },
     "execution_count": 264,
     "metadata": {},
     "output_type": "execute_result"
    }
   ],
   "source": [
    "'''\n",
    "35. Search Insert Position\n",
    "\n",
    "Given a sorted array and a target value, return the index if the target is found. If not, return the index where it would \n",
    "be if it were inserted in order. You may assume no duplicates in the array.\n",
    "Example 1:\n",
    "Input: [1,3,5,6], 5\n",
    "Output: 2\n",
    "Example 2:\n",
    "Input: [1,3,5,6], 2\n",
    "Output: 1\n",
    "Example 3:\n",
    "Input: [1,3,5,6], 7\n",
    "Output: 4\n",
    "Example 4:\n",
    "Input: [1,3,5,6], 0\n",
    "Output: 0\n",
    "'''\n",
    "def search_insert(nums,target):\n",
    "    idx =-1\n",
    "    for num in nums:\n",
    "        idx+=1\n",
    "        if num >target or num ==target:\n",
    "            return idx\n",
    "    if nums[-1]<target:\n",
    "        return len(nums)\n",
    "search_insert([1,3,5,6],5)       "
   ]
  },
  {
   "cell_type": "code",
   "execution_count": 188,
   "metadata": {},
   "outputs": [
    {
     "data": {
      "text/plain": [
       "5"
      ]
     },
     "execution_count": 188,
     "metadata": {},
     "output_type": "execute_result"
    }
   ],
   "source": [
    "'''121. Best Time to Buy and Sell Stock\n",
    "Say you have an array for which the ith element is the price of a given stock on day i.\n",
    "If you were only permitted to complete at most one transaction (i.e., buy one and sell one share of the stock), \n",
    "design an algorithm to find the maximum profit.\n",
    "Note that you cannot sell a stock before you buy one.\n",
    "Example 1:\n",
    "Input: [7,1,5,3,6,4]\n",
    "Output: 5\n",
    "Explanation: Buy on day 2 (price = 1) and sell on day 5 (price = 6), profit = 6-1 = 5.\n",
    "             Not 7-1 = 6, as selling price needs to be larger than buying price.\n",
    "Example 2:\n",
    "Input: [7,6,4,3,1]\n",
    "Output: 0\n",
    "Explanation: In this case, no transaction is done, i.e. max profit = 0.\n",
    "'''\n",
    "def max_profit(arr):\n",
    "    profit =[]\n",
    "    x =0\n",
    "    max_sub_profit = 0\n",
    "    for i in range(len(arr)):\n",
    "        for j in range(i+1, len(arr)):\n",
    "            x = arr[j]-arr[i]\n",
    "            max_sub_profit = max(max_sub_profit,x)\n",
    "        profit.append(max_sub_profit)\n",
    "    return max(profit)\n",
    "arr = [7,1,5,3,6,4]\n",
    "max_profit(arr)    "
   ]
  },
  {
   "cell_type": "code",
   "execution_count": 189,
   "metadata": {},
   "outputs": [
    {
     "data": {
      "text/plain": [
       "(2, 3)"
      ]
     },
     "execution_count": 189,
     "metadata": {},
     "output_type": "execute_result"
    }
   ],
   "source": [
    "'''\n",
    "1. Two Sum\n",
    "Given nums = [2, 7, 11, 15], target = 9,\n",
    "Because nums[0] + nums[1] = 2 + 7 = 9,\n",
    "return [0, 1].\n",
    "'''\n",
    "def two_sum(arr,target): \n",
    "    d ={}\n",
    "    num =0\n",
    "    for idx,val in enumerate(arr):\n",
    "        num = target - val\n",
    "        if num not in d:\n",
    "            d[val] =idx\n",
    "        else:\n",
    "            return (d[num], idx)\n",
    "    return print('not found')\n",
    "two_sum([1, 5, 3, 4, 2, 7, 11, 15], 7)       "
   ]
  },
  {
   "cell_type": "code",
   "execution_count": 210,
   "metadata": {},
   "outputs": [
    {
     "data": {
      "text/plain": [
       "(1, 2)"
      ]
     },
     "execution_count": 210,
     "metadata": {},
     "output_type": "execute_result"
    }
   ],
   "source": [
    "'''\n",
    "167. Two Sum II - Input array is sorted\n",
    "Given an array of integers that is already sorted in ascending order, find two numbers such that they add up to a specific\n",
    "target number.The function twoSum should return indices of the two numbers such that they add up to the target, where index1 \n",
    "must be less than index2.\n",
    "Note:\n",
    "Your returned answers (both index1 and index2) are not zero-based.\n",
    "You may assume that each input would have exactly one solution and you may not use the same element twice.\n",
    "Example:\n",
    "Input: numbers = [2,7,11,15], target = 9\n",
    "Output: [1,2]\n",
    "Explanation: The sum of 2 and 7 is 9. Therefore index1 = 1, index2 = 2.\n",
    "'''\n",
    "def two_sum(arr,target): \n",
    "    d ={}\n",
    "    num =0\n",
    "    for idx,val in enumerate(arr):\n",
    "        num = target - val\n",
    "        if num not in d:\n",
    "            d[val] =idx\n",
    "        else:\n",
    "            return (d[num]+1, idx+1)\n",
    "    return print('not found')\n",
    "two_sum([2,7,11,15], 9)      "
   ]
  },
  {
   "cell_type": "code",
   "execution_count": 190,
   "metadata": {},
   "outputs": [
    {
     "data": {
      "text/plain": [
       "['1',\n",
       " '2',\n",
       " 'Fizz',\n",
       " '4',\n",
       " 'Buzz',\n",
       " 'Fizz',\n",
       " '7',\n",
       " '8',\n",
       " 'Fizz',\n",
       " 'Buzz',\n",
       " '11',\n",
       " 'Fizz',\n",
       " '13',\n",
       " '14',\n",
       " 'FizzBuzz']"
      ]
     },
     "execution_count": 190,
     "metadata": {},
     "output_type": "execute_result"
    }
   ],
   "source": [
    "''' \n",
    "412. Fizz Buzz\n",
    "Write a program that outputs the string representation of numbers from 1 to n.\n",
    "But for multiples of three it should output “Fizz” instead of the number and for the multiples of five output “Buzz”. \n",
    "For numbers which are multiples of both three and five output “FizzBuzz”.\n",
    "n = 15,\n",
    "Return:\n",
    "[\n",
    "    \"1\",\n",
    "    \"2\",\n",
    "    \"Fizz\",\n",
    "    \"4\",\n",
    "    \"Buzz\",\n",
    "    \"Fizz\",\n",
    "    \"7\",\n",
    "    \"8\",\n",
    "    \"Fizz\",\n",
    "    \"Buzz\",\n",
    "    \"11\",\n",
    "    \"Fizz\",\n",
    "    \"13\",\n",
    "    \"14\",\n",
    "    \"FizzBuzz\"\n",
    "]\n",
    "\n",
    "'''\n",
    "\n",
    "def FizzBuzz(n):\n",
    "    arr =[]\n",
    "    for i in range(1,n+1):\n",
    "        if i%3 ==0 and i%5==0:\n",
    "            arr.append('FizzBuzz')\n",
    "            continue\n",
    "        if i%3 ==0:\n",
    "            arr.append('Fizz')\n",
    "            continue\n",
    "        if i%5==0:\n",
    "            arr.append('Buzz')\n",
    "            continue\n",
    "        else:\n",
    "            arr.append(str(i))\n",
    "    return arr\n",
    "FizzBuzz(15)   "
   ]
  },
  {
   "cell_type": "code",
   "execution_count": 191,
   "metadata": {},
   "outputs": [
    {
     "data": {
      "text/plain": [
       "[1, 2, 3, 2, 3, 3]"
      ]
     },
     "execution_count": 191,
     "metadata": {},
     "output_type": "execute_result"
    }
   ],
   "source": [
    "# 26. Remove Duplicates from Sorted Array\n",
    "'''\n",
    "Given a sorted array nums, remove the duplicates in-place such that each element appear only once and return the new length.\n",
    "Do not allocate extra space for another array, you must do this by modifying the input array in-place with O(1) extra memory.\n",
    "Given nums = [1,1,2],\n",
    "Your function should return length = 2, with the first two elements of nums being 1 and 2 respectively.\n",
    "It doesn't matter what you leave beyond the returned length.\n",
    "'''\n",
    "def remove_duplicates(arr):\n",
    "    idx =0\n",
    "    for i in range(1,len(arr)):\n",
    "        if arr[i]!=arr[idx]:\n",
    "            idx=idx+1\n",
    "            arr[idx] =arr[i]\n",
    "    return arr\n",
    "remove_duplicates([1,1,2,2,3,3])"
   ]
  },
  {
   "cell_type": "code",
   "execution_count": 192,
   "metadata": {},
   "outputs": [
    {
     "data": {
      "text/plain": [
       "[1, 2, 3, 0, 0, 0, 0, 0, 0]"
      ]
     },
     "execution_count": 192,
     "metadata": {},
     "output_type": "execute_result"
    }
   ],
   "source": [
    "'''\n",
    "283. Move Zeroes\n",
    "\n",
    "Given an array nums, write a function to move all 0's to the end of it while maintaining the relative order of the non-zero elements.\n",
    "\n",
    "Example:\n",
    "\n",
    "Input: [0,1,0,3,12]\n",
    "Output: [1,3,12,0,0]\n",
    "'''\n",
    "\n",
    "def move_zeros(nums):\n",
    "    idx =0\n",
    "    if 0 not in nums:\n",
    "        return nums\n",
    "    else:\n",
    "        for i in range(len(nums)):\n",
    "            if nums[i]!=0:\n",
    "                nums[idx]=nums[i]\n",
    "                if idx != i:\n",
    "                    nums[i] = 0\n",
    "                idx=idx+1\n",
    "        return nums\n",
    "move_zeros([0,0,0,1,0,2,0,3,0])  "
   ]
  },
  {
   "cell_type": "code",
   "execution_count": 193,
   "metadata": {},
   "outputs": [
    {
     "data": {
      "text/plain": [
       "True"
      ]
     },
     "execution_count": 193,
     "metadata": {},
     "output_type": "execute_result"
    }
   ],
   "source": [
    "'''\n",
    "242. Valid Anagram\n",
    "\n",
    "Given two strings s and t , write a function to determine if t is an anagram of s.\n",
    "Example 1:\n",
    "Input: s = \"anagram\", t = \"nagaram\"\n",
    "Output: true\n",
    "Example 2:\n",
    "Input: s = \"rat\", t = \"car\"\n",
    "Output: false\n",
    "'''\n",
    "def valid_anagram(s,t):\n",
    "    d={}\n",
    "    for letter in s:\n",
    "        if letter not in d:\n",
    "            d[letter] =1\n",
    "        else:\n",
    "            d[letter] +=1\n",
    "    for letter in t:\n",
    "        if letter not in d:\n",
    "            d[letter] =1\n",
    "        else:\n",
    "            d[letter]-=1\n",
    "    for letter in d.keys():\n",
    "        if d[letter]!= 0:\n",
    "            return False\n",
    "    return True\n",
    "valid_anagram(s = \"anagram\", t = \"nagaram\")   "
   ]
  },
  {
   "cell_type": "code",
   "execution_count": 194,
   "metadata": {},
   "outputs": [],
   "source": [
    "'''\n",
    "53. Maximum Subarray\n",
    "Given an integer array nums, find the contiguous subarray (containing at least one number) which has the largest sum \n",
    "and return its sum.\n",
    "Example:\n",
    "Input: [-2,1,-3,4,-1,2,1,-5,4],\n",
    "Output: 6\n",
    "Explanation: [4,-1,2,1] has the largest sum = 6.\n",
    "'''\n",
    "\n",
    "def maxSubArray(self, nums):\n",
    "    curr_sum = nums[0] \n",
    "    max_sum = nums[0]\n",
    "    for num in nums[1:]:\n",
    "        curr_sum = max(curr_sum+num,num)\n",
    "        max_sum = max(curr_sum,max_sum)\n",
    "    return max_sum\n",
    "        "
   ]
  },
  {
   "cell_type": "code",
   "execution_count": 195,
   "metadata": {},
   "outputs": [
    {
     "data": {
      "text/plain": [
       "8"
      ]
     },
     "execution_count": 195,
     "metadata": {},
     "output_type": "execute_result"
    }
   ],
   "source": [
    "'''\n",
    "268. Missing Number\n",
    "Given an array containing n distinct numbers taken from 0, 1, 2, ..., n, find the one that is missing from the array.\n",
    "Example 1:\n",
    "Input: [3,0,1]\n",
    "Output: 2\n",
    "Example 2:\n",
    "Input: [9,6,4,2,3,5,7,0,1]\n",
    "Output: 8\n",
    "'''\n",
    "\n",
    "nums =[9,6,4,2,3,5,7,0,1]\n",
    "def missing_num(nums):\n",
    "    nums = sorted(nums)\n",
    "    if nums[-1]!=len(nums):\n",
    "        return len(nums)\n",
    "    elif nums[0]!= 0:\n",
    "        return 0\n",
    "    else:\n",
    "        for i in range(0,max(nums)):\n",
    "            if i !=nums[i]:\n",
    "                return i\n",
    "missing_num([9,6,4,2,3,5,7,0,1])"
   ]
  },
  {
   "cell_type": "code",
   "execution_count": 196,
   "metadata": {},
   "outputs": [
    {
     "data": {
      "text/plain": [
       "[5, 6]"
      ]
     },
     "execution_count": 196,
     "metadata": {},
     "output_type": "execute_result"
    }
   ],
   "source": [
    "'''\n",
    "448. Find All Numbers Disappeared in an Array\n",
    "Given an array of integers where 1 ≤ a[i] ≤ n (n = size of array), some elements appear twice and others appear once.\n",
    "Find all the elements of [1, n] inclusive that do not appear in this array.\n",
    "Could you do it without extra space and in O(n) runtime? You may assume the returned list does not count as extra space.\n",
    "Example:\n",
    "Input:\n",
    "[4,3,2,7,8,2,3,1]\n",
    "Output:\n",
    "[5,6]\n",
    "'''\n",
    "def all_num_missing(nums):\n",
    "    ans =[]\n",
    "    d={}\n",
    "    for num in nums:\n",
    "        d[num]=1\n",
    "    for num in range(1,len(nums)+1):\n",
    "        if num not in d:\n",
    "            ans.append(num)\n",
    "    return ans\n",
    "\n",
    "all_num_missing([4,3,2,7,8,2,3,1])  "
   ]
  },
  {
   "cell_type": "code",
   "execution_count": 208,
   "metadata": {},
   "outputs": [
    {
     "data": {
      "text/plain": [
       "[9, 4]"
      ]
     },
     "execution_count": 208,
     "metadata": {},
     "output_type": "execute_result"
    }
   ],
   "source": [
    "'''\n",
    "349. Intersection of Two Arrays\n",
    "Given two arrays, write a function to compute their intersection.\n",
    "Example 1:\n",
    "Input: nums1 = [1,2,2,1], nums2 = [2,2]\n",
    "Output: [2]\n",
    "Example 2:\n",
    "Input: nums1 = [4,9,5], nums2 = [9,4,9,8,4]\n",
    "Output: [9,4]\n",
    "'''\n",
    "def intersection(nums1,nums2):\n",
    "    nums1 = set(nums1)\n",
    "    nums2 = set (nums2)\n",
    "    ans =[]\n",
    "    if len(nums1) > len(nums2):\n",
    "        for num in nums2:\n",
    "            if num in nums1:\n",
    "                ans.append(num)\n",
    "                \n",
    "    else:\n",
    "        for num in nums1:\n",
    "            if num in nums2:\n",
    "                ans.append(num)\n",
    "    return ans\n",
    "intersection(nums1 = [4,9,5], nums2 = [9,4,9,8,4])"
   ]
  },
  {
   "cell_type": "code",
   "execution_count": 221,
   "metadata": {},
   "outputs": [
    {
     "data": {
      "text/plain": [
       "False"
      ]
     },
     "execution_count": 221,
     "metadata": {},
     "output_type": "execute_result"
    }
   ],
   "source": [
    "'''\n",
    "1150. Check If a Number Is Majority Element in a Sorted Array\n",
    "Given an array nums sorted in non-decreasing order, and a number target, return True if and only if\n",
    "target is a majority element. A majority element is an element that appears more than N/2 times in an array of length N.\n",
    "\n",
    "Example 1:\n",
    "Input: nums = [2,4,5,5,5,5,5,6,6], target = 5\n",
    "Output: true\n",
    "Explanation: \n",
    "The value 5 appears 5 times and the length of the array is 9.\n",
    "Thus, 5 is a majority element because 5 > 9/2 is true.\n",
    "Example 2:\n",
    "\n",
    "Input: nums = [10,100,101,101], target = 101\n",
    "Output: false\n",
    "Explanation: \n",
    "The value 101 appears 2 times and the length of the array is 4.\n",
    "Thus, 101 is not a majority element because 2 > 4/2 is false.\n",
    "'''\n",
    "def majority_element(nums,target):\n",
    "    d={}\n",
    "    for num in nums:\n",
    "        if num not in d:\n",
    "            d[num] =1\n",
    "        else:\n",
    "            d[num]+=1\n",
    "    if d[target] > len(nums)/2:\n",
    "        return True\n",
    "    else:\n",
    "        return False    \n",
    "majority_element(nums = [10,100,101,101], target = 101)"
   ]
  },
  {
   "cell_type": "code",
   "execution_count": 244,
   "metadata": {},
   "outputs": [
    {
     "data": {
      "text/plain": [
       "False"
      ]
     },
     "execution_count": 244,
     "metadata": {},
     "output_type": "execute_result"
    }
   ],
   "source": [
    "'''\n",
    "9. Palindrome Number\n",
    "Determine whether an integer is a palindrome. An integer is a palindrome when it reads the same backward as forward.\n",
    "Example 1:\n",
    "Input: 121\n",
    "Output: true\n",
    "Example 2:\n",
    "Input: -121\n",
    "Output: false\n",
    "Explanation: From left to right, it reads -121. From right to left, it becomes 121-. Therefore it is not a palindrome.\n",
    "Example 3:\n",
    "Input: 10\n",
    "Output: false\n",
    "Explanation: Reads 01 from right to left. Therefore it is not a palindrome.\n",
    "'''\n",
    "def palindrome(x):\n",
    "    if x<0:\n",
    "        return False\n",
    "    elif x ==0:\n",
    "        return True\n",
    "    else:\n",
    "        if str(x) == str(x)[::-1]:\n",
    "            return True\n",
    "        else:\n",
    "            return False\n",
    "        \n",
    "palindrome(-121)    "
   ]
  },
  {
   "cell_type": "code",
   "execution_count": 242,
   "metadata": {},
   "outputs": [],
   "source": [
    "'''\n",
    "217. Contains Duplicate\n",
    "Given an array of integers, find if the array contains any duplicates.\n",
    "Your function should return true if any value appears at least twice in the array, \n",
    "and it should return false if every element is distinct.\n",
    "Example 1:\n",
    "Input: [1,2,3,1]\n",
    "Output: true\n",
    "Example 2:\n",
    "Input: [1,2,3,4]\n",
    "Output: false\n",
    "Example 3:\n",
    "Input: [1,1,1,3,3,4,3,2,4,2]\n",
    "Output: true\n",
    "'''\n",
    "\n",
    "def duplicate(nums):\n",
    "    d = {}\n",
    "    for num in nums:\n",
    "        if num not in d:   \n",
    "            d[num] =1\n",
    "        else:\n",
    "            d[num]+=1\n",
    "    for item in d.keys():\n",
    "        if d[item]>1:\n",
    "            return True\n",
    "    return False"
   ]
  },
  {
   "cell_type": "code",
   "execution_count": 246,
   "metadata": {},
   "outputs": [
    {
     "data": {
      "text/plain": [
       "False"
      ]
     },
     "execution_count": 246,
     "metadata": {},
     "output_type": "execute_result"
    }
   ],
   "source": [
    "duplicate ([1,2,3,4])"
   ]
  },
  {
   "cell_type": "code",
   "execution_count": 328,
   "metadata": {},
   "outputs": [],
   "source": [
    "# Python | Combining two sorted lists | https://www.geeksforgeeks.org/python-combining-two-sorted-lists/\n",
    "test_list1 = [1, 5, 6, 9, 11] \n",
    "test_list2 = [3, 4, 7, 8, 10] \n",
    "size_1 = len(test_list1) \n",
    "size_2 = len(test_list2) \n",
    "  \n",
    "res = [] \n",
    "i, j = 0, 0\n",
    "  \n",
    "while i < size_1 and j < size_2: \n",
    "    if test_list1[i] < test_list2[j]: \n",
    "      res.append(test_list1[i]) \n",
    "      i += 1\n",
    "  \n",
    "    else: \n",
    "      res.append(test_list2[j]) \n",
    "      j += 1\n",
    "res = res + test_list1[i:] + test_list2[j:] "
   ]
  },
  {
   "cell_type": "code",
   "execution_count": 352,
   "metadata": {},
   "outputs": [
    {
     "data": {
      "text/plain": [
       "False"
      ]
     },
     "execution_count": 352,
     "metadata": {},
     "output_type": "execute_result"
    }
   ],
   "source": [
    "'''\n",
    "231. Power of Two\n",
    "Given an integer, write a function to determine if it is a power of two.\n",
    "Example 1:\n",
    "Input: 1\n",
    "Output: true \n",
    "Explanation: 20 = 1\n",
    "Example 2:\n",
    "Input: 16\n",
    "Output: true\n",
    "Explanation: 24 = 16\n",
    "Example 3:\n",
    "Input: 218\n",
    "Output: false\n",
    "\n",
    "''' \n",
    "def power_of_two(n):\n",
    "    if n == 0:\n",
    "        return False\n",
    "    while n % 2 == 0:\n",
    "        n /= 2\n",
    "    return n == 1\n",
    "power_of_two(218)"
   ]
  },
  {
   "cell_type": "code",
   "execution_count": 357,
   "metadata": {},
   "outputs": [
    {
     "data": {
      "text/plain": [
       "True"
      ]
     },
     "execution_count": 357,
     "metadata": {},
     "output_type": "execute_result"
    }
   ],
   "source": [
    "'''\n",
    "326. Power of Three\n",
    "Given an integer, write a function to determine if it is a power of three.\n",
    "Example 1:\n",
    "Input: 27\n",
    "Output: true\n",
    "Example 2:\n",
    "Input: 0\n",
    "Output: false\n",
    "Example 3:\n",
    "Input: 9\n",
    "Output: true\n",
    "Example 4:\n",
    "Input: 45\n",
    "Output: false\n",
    "'''\n",
    "def power_of_three(n):\n",
    "    if n == 0:\n",
    "        return False\n",
    "    while n % 3 == 0:\n",
    "        n /= 3\n",
    "    return n == 1\n",
    "power_of_three(81)"
   ]
  }
 ],
 "metadata": {
  "kernelspec": {
   "display_name": "Python 3",
   "language": "python",
   "name": "python3"
  },
  "language_info": {
   "codemirror_mode": {
    "name": "ipython",
    "version": 3
   },
   "file_extension": ".py",
   "mimetype": "text/x-python",
   "name": "python",
   "nbconvert_exporter": "python",
   "pygments_lexer": "ipython3",
   "version": "3.7.6"
  }
 },
 "nbformat": 4,
 "nbformat_minor": 4
}
